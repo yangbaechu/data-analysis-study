{
 "cells": [
  {
   "cell_type": "markdown",
   "metadata": {},
   "source": [
    "# 사전 처리된 텍스트로 텍스트 분류"
   ]
  },
  {
   "cell_type": "markdown",
   "metadata": {},
   "source": [
    "텐서플로 설치하기"
   ]
  },
  {
   "cell_type": "code",
   "execution_count": 3,
   "metadata": {},
   "outputs": [
    {
     "name": "stdout",
     "output_type": "stream",
     "text": [
      "2.0.0-dev20191002\n"
     ]
    }
   ],
   "source": [
    "from __future__ import absolute_import, division, print_function, unicode_literals\n",
    "\n",
    "#!pip install tf-nightly-2.0-preview\n",
    "import tensorflow as tf\n",
    "from tensorflow import keras\n",
    "\n",
    "import numpy as np\n",
    "\n",
    "print(tf.__version__)"
   ]
  },
  {
   "cell_type": "markdown",
   "metadata": {},
   "source": [
    "## IMDB 데이터 셋 다운받기"
   ]
  },
  {
   "cell_type": "code",
   "execution_count": 4,
   "metadata": {},
   "outputs": [],
   "source": [
    "imdb = keras.datasets.imdb\n",
    "\n",
    "(train_data, train_labels), (test_data, test_labels) = imdb.load_data(num_words=10000)"
   ]
  },
  {
   "cell_type": "code",
   "execution_count": 5,
   "metadata": {},
   "outputs": [
    {
     "data": {
      "text/plain": [
       "((25000,), (25000,))"
      ]
     },
     "execution_count": 5,
     "metadata": {},
     "output_type": "execute_result"
    }
   ],
   "source": [
    "train_data.shape, test_data.shape"
   ]
  },
  {
   "cell_type": "markdown",
   "metadata": {},
   "source": [
    "## 데이터 탐색"
   ]
  },
  {
   "cell_type": "code",
   "execution_count": 5,
   "metadata": {},
   "outputs": [
    {
     "name": "stdout",
     "output_type": "stream",
     "text": [
      "훈련 샘플: 25000, 레이블: 25000\n"
     ]
    }
   ],
   "source": [
    "print(\"훈련 샘플: {}, 레이블: {}\".format(len(train_data), len(train_labels)))"
   ]
  },
  {
   "cell_type": "markdown",
   "metadata": {},
   "source": [
    "첫번째 데이터 확인하기"
   ]
  },
  {
   "cell_type": "code",
   "execution_count": 6,
   "metadata": {},
   "outputs": [
    {
     "name": "stdout",
     "output_type": "stream",
     "text": [
      "[1, 14, 22, 16, 43, 530, 973, 1622, 1385, 65, 458, 4468, 66, 3941, 4, 173, 36, 256, 5, 25, 100, 43, 838, 112, 50, 670, 2, 9, 35, 480, 284, 5, 150, 4, 172, 112, 167, 2, 336, 385, 39, 4, 172, 4536, 1111, 17, 546, 38, 13, 447, 4, 192, 50, 16, 6, 147, 2025, 19, 14, 22, 4, 1920, 4613, 469, 4, 22, 71, 87, 12, 16, 43, 530, 38, 76, 15, 13, 1247, 4, 22, 17, 515, 17, 12, 16, 626, 18, 2, 5, 62, 386, 12, 8, 316, 8, 106, 5, 4, 2223, 5244, 16, 480, 66, 3785, 33, 4, 130, 12, 16, 38, 619, 5, 25, 124, 51, 36, 135, 48, 25, 1415, 33, 6, 22, 12, 215, 28, 77, 52, 5, 14, 407, 16, 82, 2, 8, 4, 107, 117, 5952, 15, 256, 4, 2, 7, 3766, 5, 723, 36, 71, 43, 530, 476, 26, 400, 317, 46, 7, 4, 2, 1029, 13, 104, 88, 4, 381, 15, 297, 98, 32, 2071, 56, 26, 141, 6, 194, 7486, 18, 4, 226, 22, 21, 134, 476, 26, 480, 5, 144, 30, 5535, 18, 51, 36, 28, 224, 92, 25, 104, 4, 226, 65, 16, 38, 1334, 88, 12, 16, 283, 5, 16, 4472, 113, 103, 32, 15, 16, 5345, 19, 178, 32]\n"
     ]
    }
   ],
   "source": [
    "print(train_data[0])"
   ]
  },
  {
   "cell_type": "code",
   "execution_count": 7,
   "metadata": {},
   "outputs": [
    {
     "data": {
      "text/plain": [
       "(218, 189)"
      ]
     },
     "execution_count": 7,
     "metadata": {},
     "output_type": "execute_result"
    }
   ],
   "source": [
    "len(train_data[0]), len(train_data[1])"
   ]
  },
  {
   "cell_type": "markdown",
   "metadata": {},
   "source": [
    "### 정수를 다시 단어로 변환하기"
   ]
  },
  {
   "cell_type": "code",
   "execution_count": 7,
   "metadata": {},
   "outputs": [],
   "source": [
    "# 단어와 정수 인덱스를 매핑한 딕셔너리\n",
    "word_index = imdb.get_word_index()\n",
    "\n",
    "# 처음 몇 개 인덱스는 사전에 정의되어 있습니다\n",
    "word_index = {k:(v+3) for k,v in word_index.items()}\n",
    "word_index[\"<PAD>\"] = 0\n",
    "word_index[\"<START>\"] = 1\n",
    "word_index[\"<UNK>\"] = 2  # unknown\n",
    "word_index[\"<UNUSED>\"] = 3\n",
    "\n",
    "reverse_word_index = dict([(value, key) for (key, value) in word_index.items()])\n",
    "\n",
    "def decode_review(text):\n",
    "    return ' '.join([reverse_word_index.get(i, '?') for i in text])"
   ]
  },
  {
   "cell_type": "code",
   "execution_count": 8,
   "metadata": {},
   "outputs": [
    {
     "data": {
      "text/plain": [
       "\"<START> this film was just brilliant casting location scenery story direction everyone's really suited the part they played and you could just imagine being there robert <UNK> is an amazing actor and now the same being director <UNK> father came from the same scottish island as myself so i loved the fact there was a real connection with this film the witty remarks throughout the film were great it was just brilliant so much that i bought the film as soon as it was released for <UNK> and would recommend it to everyone to watch and the fly fishing was amazing really cried at the end it was so sad and you know what they say if you cry at a film it must have been good and this definitely was also <UNK> to the two little boy's that played the <UNK> of norman and paul they were just brilliant children are often left out of the <UNK> list i think because the stars that play them all grown up are such a big profile for the whole film but these children are amazing and should be praised for what they have done don't you think the whole story was so lovely because it was true and was someone's life after all that was shared with us all\""
      ]
     },
     "execution_count": 8,
     "metadata": {},
     "output_type": "execute_result"
    }
   ],
   "source": [
    "decode_review(train_data[0])"
   ]
  },
  {
   "cell_type": "markdown",
   "metadata": {},
   "source": [
    "## 데이터 준비"
   ]
  },
  {
   "cell_type": "markdown",
   "metadata": {},
   "source": [
    "정수 배열의 길이가 모두 같도록 패딩(padding)을 추가해 `max_length * num_reviews` 크기의 정수 텐서를 만든다. 이 텐서는 신경망의 첫번쨰 층으로 활용할 수 있다."
   ]
  },
  {
   "cell_type": "code",
   "execution_count": 9,
   "metadata": {},
   "outputs": [],
   "source": [
    "train_data = keras.preprocessing.sequence.pad_sequences(train_data,\n",
    "                                                        value=word_index[\"<PAD>\"],\n",
    "                                                        padding='post',\n",
    "                                                        maxlen=256)\n",
    "\n",
    "test_data = keras.preprocessing.sequence.pad_sequences(test_data,\n",
    "                                                       value=word_index[\"<PAD>\"],\n",
    "                                                       padding='post',\n",
    "                                                       maxlen=256)"
   ]
  },
  {
   "cell_type": "code",
   "execution_count": 10,
   "metadata": {},
   "outputs": [
    {
     "data": {
      "text/plain": [
       "(256, 256)"
      ]
     },
     "execution_count": 10,
     "metadata": {},
     "output_type": "execute_result"
    }
   ],
   "source": [
    "len(train_data[0]), len(train_data[1])"
   ]
  },
  {
   "cell_type": "code",
   "execution_count": 11,
   "metadata": {},
   "outputs": [
    {
     "name": "stdout",
     "output_type": "stream",
     "text": [
      "[   1   14   22   16   43  530  973 1622 1385   65  458 4468   66 3941\n",
      "    4  173   36  256    5   25  100   43  838  112   50  670    2    9\n",
      "   35  480  284    5  150    4  172  112  167    2  336  385   39    4\n",
      "  172 4536 1111   17  546   38   13  447    4  192   50   16    6  147\n",
      " 2025   19   14   22    4 1920 4613  469    4   22   71   87   12   16\n",
      "   43  530   38   76   15   13 1247    4   22   17  515   17   12   16\n",
      "  626   18    2    5   62  386   12    8  316    8  106    5    4 2223\n",
      " 5244   16  480   66 3785   33    4  130   12   16   38  619    5   25\n",
      "  124   51   36  135   48   25 1415   33    6   22   12  215   28   77\n",
      "   52    5   14  407   16   82    2    8    4  107  117 5952   15  256\n",
      "    4    2    7 3766    5  723   36   71   43  530  476   26  400  317\n",
      "   46    7    4    2 1029   13  104   88    4  381   15  297   98   32\n",
      " 2071   56   26  141    6  194 7486   18    4  226   22   21  134  476\n",
      "   26  480    5  144   30 5535   18   51   36   28  224   92   25  104\n",
      "    4  226   65   16   38 1334   88   12   16  283    5   16 4472  113\n",
      "  103   32   15   16 5345   19  178   32    0    0    0    0    0    0\n",
      "    0    0    0    0    0    0    0    0    0    0    0    0    0    0\n",
      "    0    0    0    0    0    0    0    0    0    0    0    0    0    0\n",
      "    0    0    0    0]\n"
     ]
    }
   ],
   "source": [
    "print(train_data[0])"
   ]
  },
  {
   "cell_type": "markdown",
   "metadata": {},
   "source": [
    "## 모델 구성"
   ]
  },
  {
   "cell_type": "code",
   "execution_count": 33,
   "metadata": {},
   "outputs": [
    {
     "name": "stdout",
     "output_type": "stream",
     "text": [
      "Model: \"sequential_4\"\n",
      "_________________________________________________________________\n",
      "Layer (type)                 Output Shape              Param #   \n",
      "=================================================================\n",
      "embedding_4 (Embedding)      (None, None, 16)          160000    \n",
      "_________________________________________________________________\n",
      "global_average_pooling1d_4 ( (None, 16)                0         \n",
      "_________________________________________________________________\n",
      "dense_8 (Dense)              (None, 16)                272       \n",
      "_________________________________________________________________\n",
      "dense_9 (Dense)              (None, 1)                 17        \n",
      "=================================================================\n",
      "Total params: 160,289\n",
      "Trainable params: 160,289\n",
      "Non-trainable params: 0\n",
      "_________________________________________________________________\n",
      "Model: \"sequential_5\"\n",
      "_________________________________________________________________\n",
      "Layer (type)                 Output Shape              Param #   \n",
      "=================================================================\n",
      "embedding_5 (Embedding)      (None, None, 16)          160000    \n",
      "_________________________________________________________________\n",
      "global_average_pooling1d_5 ( (None, 16)                0         \n",
      "_________________________________________________________________\n",
      "dropout_4 (Dropout)          (None, 16)                0         \n",
      "_________________________________________________________________\n",
      "dense_10 (Dense)             (None, 16)                272       \n",
      "_________________________________________________________________\n",
      "dropout_5 (Dropout)          (None, 16)                0         \n",
      "_________________________________________________________________\n",
      "dense_11 (Dense)             (None, 1)                 17        \n",
      "=================================================================\n",
      "Total params: 160,289\n",
      "Trainable params: 160,289\n",
      "Non-trainable params: 0\n",
      "_________________________________________________________________\n",
      "Model: \"sequential_6\"\n",
      "_________________________________________________________________\n",
      "Layer (type)                 Output Shape              Param #   \n",
      "=================================================================\n",
      "embedding_6 (Embedding)      (None, None, 16)          160000    \n",
      "_________________________________________________________________\n",
      "global_average_pooling1d_6 ( (None, 16)                0         \n",
      "_________________________________________________________________\n",
      "dropout_6 (Dropout)          (None, 16)                0         \n",
      "_________________________________________________________________\n",
      "dense_12 (Dense)             (None, 16)                272       \n",
      "_________________________________________________________________\n",
      "dropout_7 (Dropout)          (None, 16)                0         \n",
      "_________________________________________________________________\n",
      "dense_13 (Dense)             (None, 1)                 17        \n",
      "=================================================================\n",
      "Total params: 160,289\n",
      "Trainable params: 160,289\n",
      "Non-trainable params: 0\n",
      "_________________________________________________________________\n"
     ]
    }
   ],
   "source": [
    "# 입력 크기는 영화 리뷰 데이터셋에 적용된 어휘 사전의 크기입니다(10,000개의 단어)\n",
    "vocab_size = 10000\n",
    "\n",
    "## 드롭아웃 계층이 없는 모델\n",
    "model_1 = keras.Sequential()\n",
    "model_1.add(keras.layers.Embedding(vocab_size, 16, input_shape=(None,)))\n",
    "model_1.add(keras.layers.GlobalAveragePooling1D())\n",
    "model_1.add(keras.layers.Dense(16, activation='relu'))\n",
    "model_1.add(keras.layers.Dense(1, activation='sigmoid'))\n",
    "\n",
    "## 드롭아웃 계층의 가중치가 0.3인 모델\n",
    "model_2 = keras.Sequential()\n",
    "model_2.add(keras.layers.Embedding(vocab_size, 16, input_shape=(None,)))\n",
    "model_2.add(keras.layers.GlobalAveragePooling1D())\n",
    "model_2.add(keras.layers.Dropout(0.3))\n",
    "model_2.add(keras.layers.Dense(16, activation='relu'))\n",
    "model_2.add(keras.layers.Dropout(0.3))\n",
    "model_2.add(keras.layers.Dense(1, activation='sigmoid'))\n",
    "\n",
    "## 드롭아웃 계층의 가중치가 0.5인 모델\n",
    "model_3 = keras.Sequential()\n",
    "model_3.add(keras.layers.Embedding(vocab_size, 16, input_shape=(None,)))\n",
    "model_3.add(keras.layers.GlobalAveragePooling1D())\n",
    "model_3.add(keras.layers.Dropout(0.5))\n",
    "model_3.add(keras.layers.Dense(16, activation='relu'))\n",
    "model_3.add(keras.layers.Dropout(0.5))\n",
    "model_3.add(keras.layers.Dense(1, activation='sigmoid'))\n",
    "\n",
    "model_1.summary()\n",
    "model_2.summary()\n",
    "model_3.summary()"
   ]
  },
  {
   "cell_type": "code",
   "execution_count": 34,
   "metadata": {},
   "outputs": [],
   "source": [
    "model_1.compile(optimizer='adam',\n",
    "              loss='binary_crossentropy',\n",
    "              metrics=['accuracy'])\n",
    "model_2.compile(optimizer='adam',\n",
    "              loss='binary_crossentropy',\n",
    "              metrics=['accuracy'])\n",
    "model_3.compile(optimizer='adam',\n",
    "              loss='binary_crossentropy',\n",
    "              metrics=['accuracy'])"
   ]
  },
  {
   "cell_type": "markdown",
   "metadata": {},
   "source": [
    "## 검증 세트 만들기"
   ]
  },
  {
   "cell_type": "code",
   "execution_count": 14,
   "metadata": {},
   "outputs": [],
   "source": [
    "x_val = train_data[:10000]\n",
    "partial_x_train = train_data[10000:]\n",
    "\n",
    "y_val = train_labels[:10000]\n",
    "partial_y_train = train_labels[10000:]"
   ]
  },
  {
   "cell_type": "code",
   "execution_count": 15,
   "metadata": {},
   "outputs": [
    {
     "data": {
      "text/plain": [
       "(15000, 256)"
      ]
     },
     "execution_count": 15,
     "metadata": {},
     "output_type": "execute_result"
    }
   ],
   "source": [
    "x_val.shape\n",
    "partial_x_train.shape"
   ]
  },
  {
   "cell_type": "markdown",
   "metadata": {},
   "source": [
    "## 모델 훈련"
   ]
  },
  {
   "cell_type": "code",
   "execution_count": 35,
   "metadata": {},
   "outputs": [
    {
     "name": "stdout",
     "output_type": "stream",
     "text": [
      "Train on 15000 samples, validate on 10000 samples\n",
      "Epoch 1/40\n",
      "15000/15000 [==============================] - 2s 129us/sample - loss: 0.6919 - accuracy: 0.5849 - val_loss: 0.6901 - val_accuracy: 0.6949\n",
      "Epoch 2/40\n",
      "15000/15000 [==============================] - 1s 76us/sample - loss: 0.6865 - accuracy: 0.7204 - val_loss: 0.6827 - val_accuracy: 0.7251\n",
      "Epoch 3/40\n",
      "15000/15000 [==============================] - 1s 82us/sample - loss: 0.6746 - accuracy: 0.7543 - val_loss: 0.6675 - val_accuracy: 0.7509\n",
      "Epoch 4/40\n",
      "15000/15000 [==============================] - 1s 83us/sample - loss: 0.6533 - accuracy: 0.7686 - val_loss: 0.6426 - val_accuracy: 0.7596\n",
      "Epoch 5/40\n",
      "15000/15000 [==============================] - 1s 78us/sample - loss: 0.6215 - accuracy: 0.7885 - val_loss: 0.6094 - val_accuracy: 0.7807\n",
      "Epoch 6/40\n",
      "15000/15000 [==============================] - 1s 76us/sample - loss: 0.5812 - accuracy: 0.8084 - val_loss: 0.5698 - val_accuracy: 0.7988\n",
      "Epoch 7/40\n",
      "15000/15000 [==============================] - 1s 85us/sample - loss: 0.5360 - accuracy: 0.8263 - val_loss: 0.5282 - val_accuracy: 0.8161\n",
      "Epoch 8/40\n",
      "15000/15000 [==============================] - 1s 82us/sample - loss: 0.4901 - accuracy: 0.8432 - val_loss: 0.4877 - val_accuracy: 0.8295\n",
      "Epoch 9/40\n",
      "15000/15000 [==============================] - 1s 79us/sample - loss: 0.4468 - accuracy: 0.8587 - val_loss: 0.4510 - val_accuracy: 0.8412\n",
      "Epoch 10/40\n",
      "15000/15000 [==============================] - 1s 77us/sample - loss: 0.4077 - accuracy: 0.8697 - val_loss: 0.4188 - val_accuracy: 0.8497\n",
      "Epoch 11/40\n",
      "15000/15000 [==============================] - 1s 90us/sample - loss: 0.3730 - accuracy: 0.8777 - val_loss: 0.3922 - val_accuracy: 0.8554\n",
      "Epoch 12/40\n",
      "15000/15000 [==============================] - 1s 95us/sample - loss: 0.3437 - accuracy: 0.8849 - val_loss: 0.3707 - val_accuracy: 0.8605\n",
      "Epoch 13/40\n",
      "15000/15000 [==============================] - 1s 95us/sample - loss: 0.3193 - accuracy: 0.8925 - val_loss: 0.3537 - val_accuracy: 0.8663\n",
      "Epoch 14/40\n",
      "15000/15000 [==============================] - 1s 98us/sample - loss: 0.2987 - accuracy: 0.8987 - val_loss: 0.3402 - val_accuracy: 0.8704\n",
      "Epoch 15/40\n",
      "15000/15000 [==============================] - 1s 75us/sample - loss: 0.2810 - accuracy: 0.9032 - val_loss: 0.3291 - val_accuracy: 0.8734\n",
      "Epoch 16/40\n",
      "15000/15000 [==============================] - 1s 74us/sample - loss: 0.2646 - accuracy: 0.9088 - val_loss: 0.3197 - val_accuracy: 0.8754\n",
      "Epoch 17/40\n",
      "15000/15000 [==============================] - 1s 74us/sample - loss: 0.2507 - accuracy: 0.9139 - val_loss: 0.3125 - val_accuracy: 0.8780\n",
      "Epoch 18/40\n",
      "15000/15000 [==============================] - 1s 75us/sample - loss: 0.2384 - accuracy: 0.9169 - val_loss: 0.3061 - val_accuracy: 0.8787\n",
      "Epoch 19/40\n",
      "15000/15000 [==============================] - 1s 76us/sample - loss: 0.2267 - accuracy: 0.9226 - val_loss: 0.3011 - val_accuracy: 0.8806\n",
      "Epoch 20/40\n",
      "15000/15000 [==============================] - 1s 73us/sample - loss: 0.2158 - accuracy: 0.9260 - val_loss: 0.2976 - val_accuracy: 0.8808\n",
      "Epoch 21/40\n",
      "15000/15000 [==============================] - 1s 74us/sample - loss: 0.2060 - accuracy: 0.9295 - val_loss: 0.2938 - val_accuracy: 0.8820\n",
      "Epoch 22/40\n",
      "15000/15000 [==============================] - 1s 74us/sample - loss: 0.1969 - accuracy: 0.9327 - val_loss: 0.2909 - val_accuracy: 0.8837\n",
      "Epoch 23/40\n",
      "15000/15000 [==============================] - 1s 73us/sample - loss: 0.1884 - accuracy: 0.9373 - val_loss: 0.2887 - val_accuracy: 0.8837\n",
      "Epoch 24/40\n",
      "15000/15000 [==============================] - 1s 75us/sample - loss: 0.1802 - accuracy: 0.9405 - val_loss: 0.2881 - val_accuracy: 0.8831\n",
      "Epoch 25/40\n",
      "15000/15000 [==============================] - 1s 76us/sample - loss: 0.1727 - accuracy: 0.9437 - val_loss: 0.2875 - val_accuracy: 0.8832\n",
      "Epoch 26/40\n",
      "15000/15000 [==============================] - 1s 75us/sample - loss: 0.1659 - accuracy: 0.9474 - val_loss: 0.2860 - val_accuracy: 0.8846\n",
      "Epoch 27/40\n",
      "15000/15000 [==============================] - 1s 74us/sample - loss: 0.1592 - accuracy: 0.9494 - val_loss: 0.2859 - val_accuracy: 0.8854\n",
      "Epoch 28/40\n",
      "15000/15000 [==============================] - 1s 75us/sample - loss: 0.1528 - accuracy: 0.9521 - val_loss: 0.2855 - val_accuracy: 0.8853\n",
      "Epoch 29/40\n",
      "15000/15000 [==============================] - 1s 76us/sample - loss: 0.1466 - accuracy: 0.9555 - val_loss: 0.2862 - val_accuracy: 0.8847\n",
      "Epoch 30/40\n",
      "15000/15000 [==============================] - 1s 81us/sample - loss: 0.1409 - accuracy: 0.9568 - val_loss: 0.2869 - val_accuracy: 0.8849\n",
      "Epoch 31/40\n",
      "15000/15000 [==============================] - 1s 81us/sample - loss: 0.1358 - accuracy: 0.9597 - val_loss: 0.2884 - val_accuracy: 0.8860\n",
      "Epoch 32/40\n",
      "15000/15000 [==============================] - 1s 82us/sample - loss: 0.1309 - accuracy: 0.9615 - val_loss: 0.2896 - val_accuracy: 0.8845\n",
      "Epoch 33/40\n",
      "15000/15000 [==============================] - 1s 75us/sample - loss: 0.1254 - accuracy: 0.9638 - val_loss: 0.2935 - val_accuracy: 0.8828\n",
      "Epoch 34/40\n",
      "15000/15000 [==============================] - 1s 74us/sample - loss: 0.1208 - accuracy: 0.9656 - val_loss: 0.2927 - val_accuracy: 0.8864\n",
      "Epoch 35/40\n",
      "15000/15000 [==============================] - 1s 79us/sample - loss: 0.1162 - accuracy: 0.9671 - val_loss: 0.2944 - val_accuracy: 0.8853\n",
      "Epoch 36/40\n",
      "15000/15000 [==============================] - 1s 75us/sample - loss: 0.1119 - accuracy: 0.9687 - val_loss: 0.2969 - val_accuracy: 0.8851\n",
      "Epoch 37/40\n",
      "15000/15000 [==============================] - 1s 83us/sample - loss: 0.1078 - accuracy: 0.9704 - val_loss: 0.2993 - val_accuracy: 0.8832\n",
      "Epoch 38/40\n",
      "15000/15000 [==============================] - 1s 96us/sample - loss: 0.1039 - accuracy: 0.9717 - val_loss: 0.3022 - val_accuracy: 0.8835\n",
      "Epoch 39/40\n",
      "15000/15000 [==============================] - 2s 104us/sample - loss: 0.0999 - accuracy: 0.9735 - val_loss: 0.3049 - val_accuracy: 0.8832\n",
      "Epoch 40/40\n",
      "15000/15000 [==============================] - 2s 105us/sample - loss: 0.0972 - accuracy: 0.9739 - val_loss: 0.3102 - val_accuracy: 0.8820\n",
      "Train on 15000 samples, validate on 10000 samples\n",
      "Epoch 1/40\n",
      "15000/15000 [==============================] - 2s 125us/sample - loss: 0.6925 - accuracy: 0.5155 - val_loss: 0.6911 - val_accuracy: 0.5710\n",
      "Epoch 2/40\n",
      "15000/15000 [==============================] - 1s 86us/sample - loss: 0.6884 - accuracy: 0.5677 - val_loss: 0.6851 - val_accuracy: 0.6579\n",
      "Epoch 3/40\n",
      "15000/15000 [==============================] - 1s 86us/sample - loss: 0.6791 - accuracy: 0.6697 - val_loss: 0.6731 - val_accuracy: 0.6993\n",
      "Epoch 4/40\n",
      "15000/15000 [==============================] - 1s 95us/sample - loss: 0.6619 - accuracy: 0.7153 - val_loss: 0.6520 - val_accuracy: 0.7638\n",
      "Epoch 5/40\n",
      "15000/15000 [==============================] - 1s 79us/sample - loss: 0.6349 - accuracy: 0.7593 - val_loss: 0.6213 - val_accuracy: 0.7713\n",
      "Epoch 6/40\n",
      "15000/15000 [==============================] - 1s 80us/sample - loss: 0.5981 - accuracy: 0.7805 - val_loss: 0.5822 - val_accuracy: 0.8026\n",
      "Epoch 7/40\n",
      "15000/15000 [==============================] - 1s 82us/sample - loss: 0.5535 - accuracy: 0.8054 - val_loss: 0.5385 - val_accuracy: 0.8219\n",
      "Epoch 8/40\n",
      "15000/15000 [==============================] - 1s 78us/sample - loss: 0.5096 - accuracy: 0.8257 - val_loss: 0.4959 - val_accuracy: 0.8343\n",
      "Epoch 9/40\n",
      "15000/15000 [==============================] - 1s 86us/sample - loss: 0.4683 - accuracy: 0.8402 - val_loss: 0.4589 - val_accuracy: 0.8435\n",
      "Epoch 10/40\n",
      "15000/15000 [==============================] - 1s 83us/sample - loss: 0.4295 - accuracy: 0.8524 - val_loss: 0.4245 - val_accuracy: 0.8513\n",
      "Epoch 11/40\n",
      "15000/15000 [==============================] - 1s 95us/sample - loss: 0.3981 - accuracy: 0.8646 - val_loss: 0.3979 - val_accuracy: 0.8576\n",
      "Epoch 12/40\n",
      "15000/15000 [==============================] - 1s 82us/sample - loss: 0.3692 - accuracy: 0.8718 - val_loss: 0.3758 - val_accuracy: 0.8635\n",
      "Epoch 13/40\n",
      "15000/15000 [==============================] - 1s 91us/sample - loss: 0.3454 - accuracy: 0.8816 - val_loss: 0.3586 - val_accuracy: 0.8684\n",
      "Epoch 14/40\n",
      "15000/15000 [==============================] - 1s 81us/sample - loss: 0.3270 - accuracy: 0.8857 - val_loss: 0.3429 - val_accuracy: 0.8728\n",
      "Epoch 15/40\n"
     ]
    },
    {
     "name": "stdout",
     "output_type": "stream",
     "text": [
      "15000/15000 [==============================] - 1s 93us/sample - loss: 0.3059 - accuracy: 0.8945 - val_loss: 0.3308 - val_accuracy: 0.8751\n",
      "Epoch 16/40\n",
      "15000/15000 [==============================] - 1s 86us/sample - loss: 0.2933 - accuracy: 0.8953 - val_loss: 0.3207 - val_accuracy: 0.8782\n",
      "Epoch 17/40\n",
      "15000/15000 [==============================] - 1s 93us/sample - loss: 0.2787 - accuracy: 0.9031 - val_loss: 0.3127 - val_accuracy: 0.8807\n",
      "Epoch 18/40\n",
      "15000/15000 [==============================] - 1s 97us/sample - loss: 0.2618 - accuracy: 0.9084 - val_loss: 0.3059 - val_accuracy: 0.8814\n",
      "Epoch 19/40\n",
      "15000/15000 [==============================] - 1s 79us/sample - loss: 0.2540 - accuracy: 0.9122 - val_loss: 0.3007 - val_accuracy: 0.8830\n",
      "Epoch 20/40\n",
      "15000/15000 [==============================] - 1s 78us/sample - loss: 0.2386 - accuracy: 0.9172 - val_loss: 0.2966 - val_accuracy: 0.8822\n",
      "Epoch 21/40\n",
      "15000/15000 [==============================] - 1s 82us/sample - loss: 0.2334 - accuracy: 0.9209 - val_loss: 0.2931 - val_accuracy: 0.8834\n",
      "Epoch 22/40\n",
      "15000/15000 [==============================] - 1s 85us/sample - loss: 0.2210 - accuracy: 0.9231 - val_loss: 0.2895 - val_accuracy: 0.8858\n",
      "Epoch 23/40\n",
      "15000/15000 [==============================] - 1s 90us/sample - loss: 0.2150 - accuracy: 0.9280 - val_loss: 0.2870 - val_accuracy: 0.8868\n",
      "Epoch 24/40\n",
      "15000/15000 [==============================] - 1s 79us/sample - loss: 0.2062 - accuracy: 0.9316 - val_loss: 0.2860 - val_accuracy: 0.8864\n",
      "Epoch 25/40\n",
      "15000/15000 [==============================] - 1s 85us/sample - loss: 0.1980 - accuracy: 0.9324 - val_loss: 0.2844 - val_accuracy: 0.8857\n",
      "Epoch 26/40\n",
      "15000/15000 [==============================] - 1s 76us/sample - loss: 0.1910 - accuracy: 0.9380 - val_loss: 0.2830 - val_accuracy: 0.8869\n",
      "Epoch 27/40\n",
      "15000/15000 [==============================] - 1s 73us/sample - loss: 0.1837 - accuracy: 0.9397 - val_loss: 0.2843 - val_accuracy: 0.8878\n",
      "Epoch 28/40\n",
      "15000/15000 [==============================] - 1s 74us/sample - loss: 0.1779 - accuracy: 0.9406 - val_loss: 0.2828 - val_accuracy: 0.8877\n",
      "Epoch 29/40\n",
      "15000/15000 [==============================] - 1s 77us/sample - loss: 0.1696 - accuracy: 0.9461 - val_loss: 0.2831 - val_accuracy: 0.8888\n",
      "Epoch 30/40\n",
      "15000/15000 [==============================] - 1s 73us/sample - loss: 0.1634 - accuracy: 0.9491 - val_loss: 0.2849 - val_accuracy: 0.8855\n",
      "Epoch 31/40\n",
      "15000/15000 [==============================] - 1s 75us/sample - loss: 0.1577 - accuracy: 0.9505 - val_loss: 0.2861 - val_accuracy: 0.8884\n",
      "Epoch 32/40\n",
      "15000/15000 [==============================] - 1s 75us/sample - loss: 0.1555 - accuracy: 0.9509 - val_loss: 0.2862 - val_accuracy: 0.8867\n",
      "Epoch 33/40\n",
      "15000/15000 [==============================] - 1s 74us/sample - loss: 0.1499 - accuracy: 0.9537 - val_loss: 0.2885 - val_accuracy: 0.8866\n",
      "Epoch 34/40\n",
      "15000/15000 [==============================] - 1s 77us/sample - loss: 0.1442 - accuracy: 0.9565 - val_loss: 0.2892 - val_accuracy: 0.8866\n",
      "Epoch 35/40\n",
      "15000/15000 [==============================] - 1s 75us/sample - loss: 0.1381 - accuracy: 0.9590 - val_loss: 0.2918 - val_accuracy: 0.8860\n",
      "Epoch 36/40\n",
      "15000/15000 [==============================] - 1s 76us/sample - loss: 0.1347 - accuracy: 0.9601 - val_loss: 0.2933 - val_accuracy: 0.8858\n",
      "Epoch 37/40\n",
      "15000/15000 [==============================] - 1s 77us/sample - loss: 0.1291 - accuracy: 0.9629 - val_loss: 0.2956 - val_accuracy: 0.8852\n",
      "Epoch 38/40\n",
      "15000/15000 [==============================] - 1s 76us/sample - loss: 0.1256 - accuracy: 0.9627 - val_loss: 0.2985 - val_accuracy: 0.8856\n",
      "Epoch 39/40\n",
      "15000/15000 [==============================] - 1s 77us/sample - loss: 0.1190 - accuracy: 0.9679 - val_loss: 0.3011 - val_accuracy: 0.8846\n",
      "Epoch 40/40\n",
      "15000/15000 [==============================] - 1s 79us/sample - loss: 0.1154 - accuracy: 0.9691 - val_loss: 0.3032 - val_accuracy: 0.8841\n",
      "Train on 15000 samples, validate on 10000 samples\n",
      "Epoch 1/40\n",
      "15000/15000 [==============================] - 2s 110us/sample - loss: 0.6928 - accuracy: 0.5181 - val_loss: 0.6918 - val_accuracy: 0.6039\n",
      "Epoch 2/40\n",
      "15000/15000 [==============================] - 1s 80us/sample - loss: 0.6903 - accuracy: 0.5684 - val_loss: 0.6879 - val_accuracy: 0.6477\n",
      "Epoch 3/40\n",
      "15000/15000 [==============================] - 1s 77us/sample - loss: 0.6844 - accuracy: 0.6195 - val_loss: 0.6798 - val_accuracy: 0.7551\n",
      "Epoch 4/40\n",
      "15000/15000 [==============================] - 1s 77us/sample - loss: 0.6727 - accuracy: 0.6696 - val_loss: 0.6652 - val_accuracy: 0.7679\n",
      "Epoch 5/40\n",
      "15000/15000 [==============================] - 1s 77us/sample - loss: 0.6536 - accuracy: 0.7052 - val_loss: 0.6419 - val_accuracy: 0.7815\n",
      "Epoch 6/40\n",
      "15000/15000 [==============================] - 1s 76us/sample - loss: 0.6254 - accuracy: 0.7365 - val_loss: 0.6101 - val_accuracy: 0.7976\n",
      "Epoch 7/40\n",
      "15000/15000 [==============================] - 1s 78us/sample - loss: 0.5934 - accuracy: 0.7591 - val_loss: 0.5732 - val_accuracy: 0.8132\n",
      "Epoch 8/40\n",
      "15000/15000 [==============================] - 1s 75us/sample - loss: 0.5581 - accuracy: 0.7815 - val_loss: 0.5342 - val_accuracy: 0.8268\n",
      "Epoch 9/40\n",
      "15000/15000 [==============================] - 1s 76us/sample - loss: 0.5173 - accuracy: 0.8089 - val_loss: 0.4945 - val_accuracy: 0.8379\n",
      "Epoch 10/40\n",
      "15000/15000 [==============================] - 1s 82us/sample - loss: 0.4823 - accuracy: 0.8197 - val_loss: 0.4589 - val_accuracy: 0.8475\n",
      "Epoch 11/40\n",
      "15000/15000 [==============================] - 1s 76us/sample - loss: 0.4478 - accuracy: 0.8385 - val_loss: 0.4277 - val_accuracy: 0.8546\n",
      "Epoch 12/40\n",
      "15000/15000 [==============================] - 2s 103us/sample - loss: 0.4221 - accuracy: 0.8451 - val_loss: 0.4020 - val_accuracy: 0.8613\n",
      "Epoch 13/40\n",
      "15000/15000 [==============================] - 1s 95us/sample - loss: 0.3956 - accuracy: 0.8507 - val_loss: 0.3807 - val_accuracy: 0.8643\n",
      "Epoch 14/40\n",
      "15000/15000 [==============================] - 1s 94us/sample - loss: 0.3730 - accuracy: 0.8621 - val_loss: 0.3625 - val_accuracy: 0.8699\n",
      "Epoch 15/40\n",
      "15000/15000 [==============================] - 1s 78us/sample - loss: 0.3517 - accuracy: 0.8734 - val_loss: 0.3484 - val_accuracy: 0.8700\n",
      "Epoch 16/40\n",
      "15000/15000 [==============================] - 1s 82us/sample - loss: 0.3376 - accuracy: 0.8759 - val_loss: 0.3365 - val_accuracy: 0.8724\n",
      "Epoch 17/40\n",
      "15000/15000 [==============================] - 2s 101us/sample - loss: 0.3217 - accuracy: 0.8830 - val_loss: 0.3246 - val_accuracy: 0.8750\n",
      "Epoch 18/40\n",
      "15000/15000 [==============================] - 1s 99us/sample - loss: 0.3083 - accuracy: 0.8883 - val_loss: 0.3157 - val_accuracy: 0.8784\n",
      "Epoch 19/40\n",
      "15000/15000 [==============================] - 2s 108us/sample - loss: 0.2954 - accuracy: 0.8923 - val_loss: 0.3083 - val_accuracy: 0.8802\n",
      "Epoch 20/40\n",
      "15000/15000 [==============================] - 1s 92us/sample - loss: 0.2832 - accuracy: 0.8981 - val_loss: 0.3023 - val_accuracy: 0.8812\n",
      "Epoch 21/40\n",
      "15000/15000 [==============================] - 2s 102us/sample - loss: 0.2724 - accuracy: 0.9027 - val_loss: 0.2969 - val_accuracy: 0.8827\n",
      "Epoch 22/40\n",
      "15000/15000 [==============================] - 1s 85us/sample - loss: 0.2606 - accuracy: 0.9076 - val_loss: 0.2927 - val_accuracy: 0.8846\n",
      "Epoch 23/40\n",
      "15000/15000 [==============================] - 1s 80us/sample - loss: 0.2515 - accuracy: 0.9150 - val_loss: 0.2895 - val_accuracy: 0.8843\n",
      "Epoch 24/40\n",
      "15000/15000 [==============================] - 1s 78us/sample - loss: 0.2446 - accuracy: 0.9152 - val_loss: 0.2866 - val_accuracy: 0.8858\n",
      "Epoch 25/40\n",
      "15000/15000 [==============================] - 1s 80us/sample - loss: 0.2383 - accuracy: 0.9150 - val_loss: 0.2843 - val_accuracy: 0.8863\n",
      "Epoch 26/40\n",
      "15000/15000 [==============================] - 1s 89us/sample - loss: 0.2306 - accuracy: 0.9209 - val_loss: 0.2831 - val_accuracy: 0.8862\n",
      "Epoch 27/40\n",
      "15000/15000 [==============================] - 2s 116us/sample - loss: 0.2239 - accuracy: 0.9232 - val_loss: 0.2821 - val_accuracy: 0.8875\n",
      "Epoch 28/40\n",
      "15000/15000 [==============================] - 2s 123us/sample - loss: 0.2141 - accuracy: 0.9287 - val_loss: 0.2806 - val_accuracy: 0.8884\n",
      "Epoch 29/40\n"
     ]
    },
    {
     "name": "stdout",
     "output_type": "stream",
     "text": [
      "15000/15000 [==============================] - 1s 84us/sample - loss: 0.2065 - accuracy: 0.9322 - val_loss: 0.2801 - val_accuracy: 0.8879\n",
      "Epoch 30/40\n",
      "15000/15000 [==============================] - 1s 90us/sample - loss: 0.1998 - accuracy: 0.9364 - val_loss: 0.2799 - val_accuracy: 0.8878\n",
      "Epoch 31/40\n",
      "15000/15000 [==============================] - 1s 96us/sample - loss: 0.1943 - accuracy: 0.9389 - val_loss: 0.2801 - val_accuracy: 0.8865\n",
      "Epoch 32/40\n",
      "15000/15000 [==============================] - 1s 76us/sample - loss: 0.1892 - accuracy: 0.9413 - val_loss: 0.2808 - val_accuracy: 0.8875\n",
      "Epoch 33/40\n",
      "15000/15000 [==============================] - 2s 130us/sample - loss: 0.1823 - accuracy: 0.9422 - val_loss: 0.2813 - val_accuracy: 0.8873\n",
      "Epoch 34/40\n",
      "15000/15000 [==============================] - 2s 101us/sample - loss: 0.1782 - accuracy: 0.9440 - val_loss: 0.2831 - val_accuracy: 0.8870\n",
      "Epoch 35/40\n",
      "15000/15000 [==============================] - 1s 74us/sample - loss: 0.1718 - accuracy: 0.9461 - val_loss: 0.2840 - val_accuracy: 0.8866\n",
      "Epoch 36/40\n",
      "15000/15000 [==============================] - 1s 71us/sample - loss: 0.1661 - accuracy: 0.9501 - val_loss: 0.2848 - val_accuracy: 0.8877\n",
      "Epoch 37/40\n",
      "15000/15000 [==============================] - 2s 115us/sample - loss: 0.1631 - accuracy: 0.9509 - val_loss: 0.2863 - val_accuracy: 0.8870\n",
      "Epoch 38/40\n",
      "15000/15000 [==============================] - 1s 96us/sample - loss: 0.1617 - accuracy: 0.9492 - val_loss: 0.2880 - val_accuracy: 0.8868\n",
      "Epoch 39/40\n",
      "15000/15000 [==============================] - 1s 77us/sample - loss: 0.1547 - accuracy: 0.9560 - val_loss: 0.2905 - val_accuracy: 0.8868\n",
      "Epoch 40/40\n",
      "15000/15000 [==============================] - 1s 89us/sample - loss: 0.1437 - accuracy: 0.9592 - val_loss: 0.2928 - val_accuracy: 0.8855\n"
     ]
    }
   ],
   "source": [
    "history_1 = model_1.fit(partial_x_train,\n",
    "                    partial_y_train,\n",
    "                    epochs=40,\n",
    "                    batch_size=512,\n",
    "                    validation_data=(x_val, y_val),\n",
    "                    verbose=1)\n",
    "\n",
    "history_2 = model_2.fit(partial_x_train,\n",
    "                    partial_y_train,\n",
    "                    epochs=40,\n",
    "                    batch_size=512,\n",
    "                    validation_data=(x_val, y_val),\n",
    "                    verbose=1)\n",
    "\n",
    "history_3 = model_3.fit(partial_x_train,\n",
    "                    partial_y_train,\n",
    "                    epochs=40,\n",
    "                    batch_size=512,\n",
    "                    validation_data=(x_val, y_val),\n",
    "                    verbose=1)"
   ]
  },
  {
   "cell_type": "markdown",
   "metadata": {},
   "source": [
    "## 모델 평가"
   ]
  },
  {
   "cell_type": "code",
   "execution_count": 44,
   "metadata": {},
   "outputs": [
    {
     "name": "stdout",
     "output_type": "stream",
     "text": [
      "25000/1 - 1s - loss: 0.3549 - accuracy: 0.8723\n",
      "25000/1 - 1s - loss: 0.3191 - accuracy: 0.8754\n",
      "25000/1 - 1s - loss: 0.2973 - accuracy: 0.8768\n",
      "[0.3286289292526245, 0.87232]\n",
      "[0.32080433918952944, 0.8754]\n",
      "[0.31079408900260924, 0.87684]\n"
     ]
    }
   ],
   "source": [
    "result_1 = model_1.evaluate(test_data,  test_labels, verbose=2)\n",
    "result_2 = model_2.evaluate(test_data,  test_labels, verbose=2)\n",
    "result_3 = model_3.evaluate(test_data,  test_labels, verbose=2)\n",
    "\n",
    "print(result_1)\n",
    "print(result_2)\n",
    "print(result_3)"
   ]
  },
  {
   "cell_type": "markdown",
   "metadata": {},
   "source": [
    "## 정확도와 손실 그래프 그리기"
   ]
  },
  {
   "cell_type": "code",
   "execution_count": 45,
   "metadata": {},
   "outputs": [
    {
     "data": {
      "text/plain": [
       "dict_keys(['loss', 'accuracy', 'val_loss', 'val_accuracy'])"
      ]
     },
     "execution_count": 45,
     "metadata": {},
     "output_type": "execute_result"
    }
   ],
   "source": [
    "history_dict_1 = history_1.history\n",
    "history_dict_2 = history_2.history\n",
    "history_dict_3 = history_3.history\n",
    "history_dict.keys()"
   ]
  },
  {
   "cell_type": "code",
   "execution_count": 51,
   "metadata": {},
   "outputs": [
    {
     "data": {
      "image/png": "[encoded data removed]",
      "text/plain": [
       "<Figure size 432x432 with 1 Axes>"
      ]
     },
     "metadata": {
      "needs_background": "light"
     },
     "output_type": "display_data"
    },
    {
     "data": {
      "text/plain": [
       "<Figure size 432x432 with 0 Axes>"
      ]
     },
     "metadata": {},
     "output_type": "display_data"
    }
   ],
   "source": [
    "import matplotlib.pyplot as plt\n",
    "\n",
    "acc_1 = history_dict_1['accuracy']\n",
    "val_acc_1 = history_dict_1['val_accuracy']\n",
    "loss_1 = history_dict_1['loss']\n",
    "val_loss_1 = history_dict_1['val_loss']\n",
    "acc_2 = history_dict_2['accuracy']\n",
    "val_acc_2 = history_dict_2['val_accuracy']\n",
    "loss_2 = history_dict_2['loss']\n",
    "val_loss_2 = history_dict_2['val_loss']\n",
    "acc_3 = history_dict_2['accuracy']\n",
    "val_acc_3 = history_dict_2['val_accuracy']\n",
    "loss_3 = history_dict_2['loss']\n",
    "val_loss_3 = history_dict_2['val_loss']\n",
    "\n",
    "epochs = range(1, len(acc_1) + 1)\n",
    "\n",
    "# b는 \"파란 실선\"입니다\n",
    "plt.plot(epochs, acc_1, 'r', label='without dropout')\n",
    "plt.plot(epochs, acc_2, 'g', label='dropout rate: 0.3')\n",
    "plt.plot(epochs, acc_3, 'b', label='dropout rate 0.5')\n",
    "plt.title('Training  accuracy')\n",
    "plt.xlabel('Epochs')\n",
    "plt.ylabel('Accuracy')\n",
    "plt.legend()\n",
    "\n",
    "plt.ylim(0.7, 1.0)\n",
    "plt.rcParams[\"figure.figsize\"] = (6,6)\n",
    "plt.show()\n",
    "plt.clf() "
   ]
  },
  {
   "cell_type": "code",
   "execution_count": 52,
   "metadata": {},
   "outputs": [
    {
     "data": {
      "image/png": "[encoded data removed]",
      "text/plain": [
       "<Figure size 432x432 with 1 Axes>"
      ]
     },
     "metadata": {
      "needs_background": "light"
     },
     "output_type": "display_data"
    },
    {
     "data": {
      "text/plain": [
       "<Figure size 432x432 with 0 Axes>"
      ]
     },
     "metadata": {},
     "output_type": "display_data"
    }
   ],
   "source": [
    "# b는 \"파란 실선\"입니다\n",
    "plt.plot(epochs, val_acc_1, 'r', label='without dropout')\n",
    "plt.plot(epochs, val_acc_2, 'g', label='dropout rate: 0.3')\n",
    "plt.plot(epochs, val_acc_3, 'b', label='dropout rate: 0.5')\n",
    "plt.title('Validtion accuracy')\n",
    "plt.xlabel('Epochs')\n",
    "plt.ylabel('Accuracy')\n",
    "plt.legend()\n",
    "\n",
    "plt.ylim(0.7, 1.0)\n",
    "plt.rcParams[\"figure.figsize\"] = (6,6)\n",
    "plt.show()\n",
    "plt.clf() "
   ]
  },
  {
   "cell_type": "markdown",
   "metadata": {},
   "source": [
    "-->  결론: rate 0.5의 드롭아웃 계층을 가진 신경망이 오버피팅을 막고 0.6% 정도 더 높은 정확도를 가진다. "
   ]
  },
  {
   "cell_type": "markdown",
   "metadata": {},
   "source": [
    "피드백 \n",
    "2진분류이므로 binary cross entrophy를 사용\n",
    "embedding: 하나의 리뷰를 1만개의 데이터로(w2v)"
   ]
  },
  {
   "cell_type": "markdown",
   "metadata": {},
   "source": [
    "nltk: 자연어처리 라이브러리\n",
    "워드투벡터: 단어의 의미를 dense한 배열로 나타냄\n",
    "w2v -> tsne(형태) -> k-means"
   ]
  },
  {
   "cell_type": "markdown",
   "metadata": {},
   "source": [
    "1. 의사결정트리: 깊이를 다르게 하면서 실험(많은 데이터에 적합하지 않음)\n",
    "    trian- > val과정을 거쳐가면서 매개변수를 다르게 하고 test data로 최종 결과 확인\n",
    "    ->실험을 통해 하이퍼파라미터 조정, 다양한 모델로 이 과정을 거쳐서 결과 비교해보기\n",
    "    feature importance: feature 정답에 기여한 정도\n",
    "2. Logistic Regression\n",
    "  confusoin metrix, 최종 모델을 가지고 결과 분석 필요(f1 스코어 등), statemodels"
   ]
  }
 ],
 "metadata": {
  "kernelspec": {
   "display_name": "Python 3",
   "language": "python",
   "name": "python3"
  },
  "language_info": {
   "codemirror_mode": {
    "name": "ipython",
    "version": 3
   },
   "file_extension": ".py",
   "mimetype": "text/x-python",
   "name": "python",
   "nbconvert_exporter": "python",
   "pygments_lexer": "ipython3",
   "version": "3.7.4"
  }
 },
 "nbformat": 4,
 "nbformat_minor": 2
}
