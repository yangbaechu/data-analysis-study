{
 "cells": [
  {
   "cell_type": "markdown",
   "metadata": {},
   "source": [
    "## 0. DownLoad Data\n",
    "\n",
    "http://ai.stanford.edu/~amaas/data/sentiment/"
   ]
  },
  {
   "cell_type": "markdown",
   "metadata": {},
   "source": [
    "## 1. Unzip & Merge Data\n",
    "1. gunzip -c aclImdb_v1.tar.gz | tar xopf -\n",
    "2. cd aclImdb && mkdir movie_data\n",
    "3. for split in train test; do for sentiment in pos neg; do for file in $split/$sentiment/*; do cat $file >> movie_data/full_${split}.txt; echo >> movie_data/full_${split}.txt; done; done; done;"
   ]
  },
  {
   "cell_type": "markdown",
   "metadata": {},
   "source": [
    "## 2. Read into Python "
   ]
  },
  {
   "cell_type": "code",
   "execution_count": 1,
   "metadata": {},
   "outputs": [],
   "source": [
    "from sklearn.datasets import load_files\n",
    "path = './data/aclImdb/'\n",
    "names = ['neg', 'pos']"
   ]
  },
  {
   "cell_type": "code",
   "execution_count": 17,
   "metadata": {},
   "outputs": [],
   "source": [
    "import os\n",
    "import glob\n",
    "import numpy as np\n",
    "def load_texts_labels_from_folders(path, folders):\n",
    "    texts,labels = [],[]\n",
    "    for idx,label in enumerate(folders):\n",
    "        for fname in glob.glob(os.path.join(path, label, '*.*')):\n",
    "            texts.append(open(fname, 'r').read())\n",
    "            labels.append(idx)\n",
    "    # stored as np.int8 to save space \n",
    "    return texts, np.array(labels).astype(np.int8)\n",
    "\n",
    "x_train,y_train = load_texts_labels_from_folders(f'{path}train',names)\n",
    "x_test, y_test = load_texts_labels_from_folders(f'{path}test',names)"
   ]
  },
  {
   "cell_type": "code",
   "execution_count": 18,
   "metadata": {},
   "outputs": [
    {
     "name": "stdout",
     "output_type": "stream",
     "text": [
      "X_Train_reviews: 25000 \n",
      "X_Test_reviews: 25000\n",
      "Y_Train_reviews: 25000 \n",
      "Y_Test_reviews: 25000\n"
     ]
    }
   ],
   "source": [
    "print('X_Train_reviews:',len(x_train),'\\nX_Test_reviews:', len(x_test))\n",
    "print('Y_Train_reviews:',len(y_train),'\\nY_Test_reviews:', len(y_test))"
   ]
  },
  {
   "cell_type": "code",
   "execution_count": 19,
   "metadata": {},
   "outputs": [
    {
     "name": "stdout",
     "output_type": "stream",
     "text": [
      "X_train[0] is Can you say \"All shock, no plot?\" There were so many unexplored directions in this movie. There was no history about the room other than the deaths. *WHY* was it evil? What made it that way? Why an \"hour\" countdown? Then, there were the unexplored things hinted at; for example we *saw* a camera in the air vent, which he mentioned. But when he climbed up said vent, there was no camera.<br /><br />How about the fact that all the ghosts looked \"Digital\", and things \"winked out\" before hitting the ground making a static noise? Hmmm... when you put all of *those* things together, it makes room 1408 look like a high-tech spook house. Except that there was no follow up on that.<br /><br />Oh... by the way... electronics don't work in 1408. Well, except for the TV... the cell phone has no signal, but Wireless Internet works fine. How many incontinuities can you possibly add? I'm sorry, but this film was nothing but \"shock after shock\". It's all been done before. Reflections in the mirror. Things just out of site. Changing paintings. Bleeding walls. The \"Oh, it was all just a dream... no it wasn't.\" And, if the room was \"evil\", why make our main character come to terms with his daughter's death, if it was going to keep him trapped there forever anyway? It just didn't make sense.<br /><br />Additionally, there was no background information about \"The first book\" that he wrote. Just some vague information about the \"dad was a jerk\" and so forth. Speaking of dads, what was with the bit about his father? \"You'll be in my place\".<br /><br />Overall, a truly HORRIBLE movie. It was 100% adrenalin shock factor, without any new or innovative effects, and certainly no back story, character development, etc.<br /><br />My overall impression is that the entire movie was made on the \"Cheap\"; pretty much using one set and a couple of location shots, and was nothing but an effects film of recycled, cheesy, \"seen-that-before\" effects. \n",
      "\n",
      "y_train[0] is 0\n"
     ]
    }
   ],
   "source": [
    "print('X_train[0] is',x_train[0],'\\n\\ny_train[0] is',y_train[0])"
   ]
  },
  {
   "cell_type": "markdown",
   "metadata": {},
   "source": [
    "## 3. Clean and Preprocess"
   ]
  },
  {
   "cell_type": "code",
   "execution_count": 20,
   "metadata": {},
   "outputs": [
    {
     "name": "stdout",
     "output_type": "stream",
     "text": [
      "Vocabulary size: 129549\n",
      "X_train:\n",
      "<25000x129549 sparse matrix of type '<class 'numpy.int64'>'\n",
      "\twith 3607330 stored elements in Compressed Sparse Row format>\n",
      "X_test: \n",
      "<25000x129549 sparse matrix of type '<class 'numpy.int64'>'\n",
      "\twith 3392376 stored elements in Compressed Sparse Row format>\n",
      "Number of features: 129549\n"
     ]
    }
   ],
   "source": [
    "from sklearn.feature_extraction.text import CountVectorizer\n",
    "\n",
    "\"\"\"\n",
    "1. min_df ( = 5): defines the minimum frequency of a word for it to be counted as a feature\n",
    "2. ngram_range (= (2,2)): The ngram_range parameter is a tuple. \n",
    "   It defines the minimum and maximum length of sequence of tokens considered. \n",
    "   In this case, this length is 2. So, this will find sequence of 2 tokens like\n",
    "   — ‘but the’, ‘wise man’ etc.\n",
    "\"\"\"\n",
    "cv = CountVectorizer(min_df=5, ngram_range=(2,2))\n",
    "X_train = cv.fit(x_train).transform(x_train)\n",
    "X_test = cv.transform(x_test)\n",
    "\n",
    "print(\"Vocabulary size: {}\".format(len(cv.vocabulary_)))\n",
    "print(\"X_train:\\n{}\".format(repr(X_train)))\n",
    "print(\"X_test: \\n{}\".format(repr(X_test)))\n",
    "\n",
    "feature_names = cv.get_feature_names()\n",
    "print(\"Number of features: {}\".format(len(feature_names)))"
   ]
  },
  {
   "cell_type": "markdown",
   "metadata": {},
   "source": [
    "## Train Test Validation Split for model"
   ]
  },
  {
   "cell_type": "code",
   "execution_count": 21,
   "metadata": {},
   "outputs": [
    {
     "name": "stdout",
     "output_type": "stream",
     "text": [
      "Shape X_train : (18750, 129549) \n",
      "Shape y_train: 18750 \n",
      "Shape X_val: (6250, 129549) \n",
      "Shape y_val: 6250 \n",
      "Shape X_test: (25000, 129549) \n",
      "Shape y_test: 25000\n"
     ]
    }
   ],
   "source": [
    "# Data Split\n",
    "from sklearn.model_selection import train_test_split\n",
    "\n",
    "X_train, X_val, y_train, y_val = train_test_split(\n",
    "    X_train,\n",
    "    y_train,\n",
    "    train_size = 0.75\n",
    ")\n",
    "print('Shape X_train :',X_train.shape,\n",
    "     '\\nShape y_train:', len(y_train),\n",
    "     '\\nShape X_val:', X_val.shape,\n",
    "     '\\nShape y_val:', len(y_val),\n",
    "     '\\nShape X_test:', X_test.shape,\n",
    "     '\\nShape y_test:', len(y_test),)"
   ]
  },
  {
   "cell_type": "markdown",
   "metadata": {},
   "source": [
    "### 4.1 Decision Tree"
   ]
  },
  {
   "cell_type": "code",
   "execution_count": 63,
   "metadata": {},
   "outputs": [],
   "source": [
    "from sklearn.metrics import accuracy_score\n",
    "from sklearn.metrics import classification_report, confusion_matrix\n",
    "import statsmodels.api as sm\n",
    "\n",
    "results = dict()"
   ]
  },
  {
   "cell_type": "code",
   "execution_count": 30,
   "metadata": {},
   "outputs": [
    {
     "name": "stdout",
     "output_type": "stream",
     "text": [
      "Accuracy for depth = 100: 0.668\n",
      "Accuracy for depth = 150: 0.66992\n",
      "Accuracy for depth = 200: 0.67408\n",
      "Accuracy for depth = 250: 0.67376\n",
      "Accuracy for depth = 300: 0.67008\n",
      "\n",
      "\n",
      "Best_acc = 0.67408\n",
      "Best_depth = 200\n"
     ]
    }
   ],
   "source": [
    "from sklearn.tree import DecisionTreeClassifier\n",
    "        \n",
    "max_depth  = [100, 150, 200, 250, 300]\n",
    "best_acc = 0\n",
    "best_depth = 0\n",
    "dt_models = list()\n",
    "for depth in max_depth: \n",
    "\n",
    "    dt = DecisionTreeClassifier(random_state=0,\n",
    "                                max_depth=depth)\n",
    "    dt.fit(X_train, y_train)\n",
    "    \n",
    "    dt_models.append(dt)\n",
    "    \n",
    "    acc = accuracy_score(y_val, dt.predict(X_val))\n",
    "    \n",
    "    print(\"Accuracy for depth = %s: %s\"\n",
    "         % (depth, acc ))\n",
    "    \n",
    "    if best_acc < acc:\n",
    "        best_acc = acc\n",
    "        best_depth = depth\n",
    "    \n",
    "    \n",
    "print('\\n\\nBest_acc = {}\\nBest_depth = {}'.format(best_acc, best_depth))\n",
    "\n"
   ]
  },
  {
   "cell_type": "code",
   "execution_count": 35,
   "metadata": {},
   "outputs": [
    {
     "name": "stdout",
     "output_type": "stream",
     "text": [
      "Final Test Accuracy: 0.68336\n"
     ]
    }
   ],
   "source": [
    "final_model = dt_models[2]\n",
    "final_pred = final_model.predict(X_test)\n",
    "final_acc = accuracy_score(y_test, final_pred)\n",
    "print(\"Final Test Accuracy: %s\"\n",
    "     %final_acc)"
   ]
  },
  {
   "cell_type": "code",
   "execution_count": 40,
   "metadata": {},
   "outputs": [
    {
     "name": "stdout",
     "output_type": "stream",
     "text": [
      "Best top 5\n",
      "('the worst', 0.053830324893383935)\n",
      "('waste of', 0.02059355860242169)\n",
      "('the best', 0.019957900106621684)\n",
      "('supposed to', 0.013725182694132337)\n",
      "('so bad', 0.01297227158613104)\n",
      "\n",
      "\n",
      "Best bottom 5\n",
      "('00 and', 0.0)\n",
      "('00 in', 0.0)\n",
      "('000 00', 0.0)\n",
      "('000 000', 0.0)\n",
      "('000 and', 0.0)\n"
     ]
    }
   ],
   "source": [
    "feature_to_coef = {\n",
    "    word: coef for word, coef in zip(\n",
    "        cv.get_feature_names(), final_model.feature_importances_\n",
    "    )\n",
    "}\n",
    "print(\"Best top 5\")\n",
    "for best_pos in sorted(\n",
    "    feature_to_coef.items(),\n",
    "    key = lambda x: x[1],\n",
    "    reverse=True)[:5]:\n",
    "    print(best_pos)\n",
    "    \n",
    "print(\"\\n\\nBest bottom 5\")    \n",
    "for best_neg in sorted(\n",
    "    feature_to_coef.items(),\n",
    "    key = lambda x: x[1])[:5]:\n",
    "    print(best_neg)\n",
    "    \n",
    "results['DT']=final_acc"
   ]
  },
  {
   "cell_type": "markdown",
   "metadata": {},
   "source": [
    "### 4.2 Random Forest"
   ]
  },
  {
   "cell_type": "code",
   "execution_count": 42,
   "metadata": {},
   "outputs": [
    {
     "name": "stdout",
     "output_type": "stream",
     "text": [
      "Accuracy for estimator = 100: 0.81648\n",
      "Accuracy for estimator = 110: 0.81792\n",
      "Accuracy for estimator = 120: 0.81696\n",
      "Accuracy for estimator = 130: 0.81824\n",
      "Accuracy for estimator = 140: 0.8176\n",
      "\n",
      "\n",
      "Best_acc = 0.81824\n",
      "Best_est = 130\n"
     ]
    }
   ],
   "source": [
    "from sklearn.ensemble import RandomForestClassifier\n",
    "\n",
    "n_estimators  = [100, 110, 120, 130, 140]\n",
    "best_acc = 0\n",
    "best_est = 0\n",
    "rf_models = list()\n",
    "\n",
    "for est in n_estimators: \n",
    "\n",
    "    rf = RandomForestClassifier(random_state=0,\n",
    "                                n_estimators=est)\n",
    "    rf.fit(X_train, y_train)\n",
    "    \n",
    "    rf_models.append(rf)\n",
    "    \n",
    "    acc = accuracy_score(y_val, rf.predict(X_val))\n",
    "    \n",
    "    print(\"Accuracy for estimator = %s: %s\"\n",
    "         % (est, acc ))\n",
    "    \n",
    "    if best_acc < acc:\n",
    "        best_acc = acc\n",
    "        best_est = est\n",
    "    \n",
    "    \n",
    "print('\\n\\nBest_acc = {}\\nBest_est = {}'.format(best_acc, best_est))"
   ]
  },
  {
   "cell_type": "code",
   "execution_count": 44,
   "metadata": {},
   "outputs": [
    {
     "name": "stdout",
     "output_type": "stream",
     "text": [
      "Final Accuracy: 0.82736\n"
     ]
    }
   ],
   "source": [
    "final_model = rf_models[3]\n",
    "final_pred = final_model.predict(X_test)\n",
    "final_acc = accuracy_score(y_test, final_pred)\n",
    "print(\"Final Accuracy: %s\"\n",
    "     %final_acc)"
   ]
  },
  {
   "cell_type": "code",
   "execution_count": 45,
   "metadata": {},
   "outputs": [
    {
     "name": "stdout",
     "output_type": "stream",
     "text": [
      "Best top 5\n",
      "('the worst', 0.009510385783819452)\n",
      "('waste of', 0.003330698707017902)\n",
      "('the best', 0.0032582765138193114)\n",
      "('is great', 0.0023921802910388265)\n",
      "('not even', 0.0020064839570563286)\n",
      "\n",
      "\n",
      "Best bottom 5\n",
      "('00 and', 0.0)\n",
      "('000 00', 0.0)\n",
      "('000 the', 0.0)\n",
      "('10 30', 0.0)\n",
      "('10 favorite', 0.0)\n"
     ]
    }
   ],
   "source": [
    "feature_to_coef = {\n",
    "    word: coef for word, coef in zip(\n",
    "        cv.get_feature_names(), final_model.feature_importances_\n",
    "    )\n",
    "}\n",
    "print(\"Best top 5\")\n",
    "for best_pos in sorted(\n",
    "    feature_to_coef.items(),\n",
    "    key = lambda x: x[1],\n",
    "    reverse=True)[:5]:\n",
    "    print(best_pos)\n",
    "    \n",
    "print(\"\\n\\nBest bottom 5\")    \n",
    "for best_neg in sorted(\n",
    "    feature_to_coef.items(),\n",
    "    key = lambda x: x[1])[:5]:\n",
    "    print(best_neg)\n",
    "    \n",
    "results['RF'] = best_acc"
   ]
  },
  {
   "cell_type": "markdown",
   "metadata": {},
   "source": [
    "### 4.3 Logistic Regression"
   ]
  },
  {
   "cell_type": "code",
   "execution_count": 57,
   "metadata": {},
   "outputs": [
    {
     "name": "stdout",
     "output_type": "stream",
     "text": [
      "Accuracy for C = 0.01: 0.8544\n",
      "Accuracy for C = 0.05: 0.86688\n",
      "Accuracy for C = 0.25: 0.87088\n",
      "Accuracy for C = 0.5: 0.8704\n",
      "Accuracy for C = 1: 0.87024\n",
      "\n",
      "\n",
      "Best_acc = 0.87088\n",
      "Best_c = 0.25\n"
     ]
    }
   ],
   "source": [
    "# Train Model\n",
    "from sklearn.linear_model import LogisticRegression\n",
    "from sklearn.metrics import accuracy_score\n",
    "\n",
    "\"\"\"C : float, optional (default=1.0)\n",
    "    Inverse of regularization strength; must be a positive float.\n",
    "    Like in support vector machines, smaller values specify stronger\n",
    "    regularization.\"\"\"\n",
    "\n",
    "Cs = [0.01, 0.05, 0.25, 0.5, 1]\n",
    "best_acc = 0\n",
    "best_c = 0\n",
    "lr_models = list()\n",
    "for c in Cs:\n",
    "    \n",
    "    lr = LogisticRegression(random_state=0,\n",
    "                            C=c)\n",
    "    \n",
    "    lr.fit(X_train, y_train)\n",
    "    \n",
    "    lr_models.append(lr)\n",
    "    \n",
    "    acc = accuracy_score(y_val, lr.predict(X_val))\n",
    "    \n",
    "    print(\"Accuracy for C = %s: %s\"\n",
    "         % (c, acc ))\n",
    "    \n",
    "    if best_acc < acc:\n",
    "        best_acc = acc\n",
    "        best_c = c\n",
    "        \n",
    "print('\\n\\nBest_acc = {}\\nBest_c = {}'.format(best_acc, best_c))"
   ]
  },
  {
   "cell_type": "code",
   "execution_count": 59,
   "metadata": {},
   "outputs": [
    {
     "name": "stdout",
     "output_type": "stream",
     "text": [
      "Final Test Accuracy: 0.87132\n"
     ]
    }
   ],
   "source": [
    "final_model = lr_models[2]\n",
    "final_pred = final_model.predict(X_test)\n",
    "final_acc = accuracy_score(y_test, final_pred)\n",
    "print(\"Final Test Accuracy: %s\"\n",
    "     %final_acc)\n"
   ]
  },
  {
   "cell_type": "code",
   "execution_count": 60,
   "metadata": {},
   "outputs": [
    {
     "name": "stdout",
     "output_type": "stream",
     "text": [
      "Best Positive top 5\n",
      "('highly recommended', 0.8281449117175549)\n",
      "('must see', 0.8265123956042405)\n",
      "('loved this', 0.8192495822676402)\n",
      "('well worth', 0.8090599754396214)\n",
      "('the best', 0.8077293043329935)\n",
      "\n",
      "\n",
      "Best Negative top 5\n",
      "('the worst', -1.8375164527936623)\n",
      "('waste of', -1.2611037925613702)\n",
      "('than this', -0.9993017694507464)\n",
      "('not worth', -0.821529240199869)\n",
      "('at best', -0.808505413291275)\n"
     ]
    }
   ],
   "source": [
    "feature_to_coef = {\n",
    "    word: coef for word, coef in zip(\n",
    "        cv.get_feature_names(), final_model.coef_[0]\n",
    "    )\n",
    "}\n",
    "print(\"Best Positive top 5\")\n",
    "for best_pos in sorted(\n",
    "    feature_to_coef.items(),\n",
    "    key = lambda x: x[1],\n",
    "    reverse=True)[:5]:\n",
    "    print(best_pos)\n",
    "    \n",
    "print(\"\\n\\nBest Negative top 5\")    \n",
    "for best_neg in sorted(\n",
    "    feature_to_coef.items(),\n",
    "    key = lambda x: x[1])[:5]:\n",
    "    print(best_neg)\n",
    "    \n",
    "results['LR'] = best_acc"
   ]
  },
  {
   "cell_type": "markdown",
   "metadata": {},
   "source": [
    "# Result of the experiment"
   ]
  },
  {
   "cell_type": "code",
   "execution_count": 61,
   "metadata": {},
   "outputs": [
    {
     "name": "stdout",
     "output_type": "stream",
     "text": [
      "The results of three model are\n",
      " {'DT': 0.68336, 'RF': 0.81824, 'LR': 0.87088}\n"
     ]
    }
   ],
   "source": [
    "print(\"The results of three model are\\n\", results)"
   ]
  },
  {
   "cell_type": "code",
   "execution_count": 69,
   "metadata": {},
   "outputs": [],
   "source": [
    "\"\"\"\n",
    "결과적으로 Logistic Regression이 가장 분류를 잘 한다.\n",
    "따라서 Logistic Regression이 imdb review sentimental analysis\n",
    "가장 적합한 model이다.\n",
    "\"\"\"\n",
    "model = lr_models[2]\n",
    "y_pred = model.predict(X_test)\n",
    "\n",
    "conf = confusion_matrix(y_test, y_pred)\n",
    "report = classification_report(y_test, y_pred)"
   ]
  },
  {
   "cell_type": "code",
   "execution_count": 109,
   "metadata": {},
   "outputs": [
    {
     "name": "stdout",
     "output_type": "stream",
     "text": [
      "\n",
      "intercept: [0.09919626]\n",
      "\n",
      "coef: [[-0.04784019 -0.01366857  0.01087227 ...  0.04161188  0.03742215\n",
      "   0.02525922]]\n",
      "\n",
      "len of coef: 129549\n",
      "\n",
      "Confusion Matrix\n",
      "\n",
      " [[10755  1745]\n",
      " [ 1472 11028]]\n",
      "\n",
      "\n",
      "Classification Report\n",
      "\n",
      "               precision    recall  f1-score   support\n",
      "\n",
      "           0       0.88      0.86      0.87     12500\n",
      "           1       0.86      0.88      0.87     12500\n",
      "\n",
      "    accuracy                           0.87     25000\n",
      "   macro avg       0.87      0.87      0.87     25000\n",
      "weighted avg       0.87      0.87      0.87     25000\n",
      "\n"
     ]
    }
   ],
   "source": [
    "print('\\nintercept:', model.intercept_)\n",
    "print('\\ncoef:', model.coef_)\n",
    "print('\\nlen of coef:', len(model.coef_[0]))\n",
    "print(\"\\nConfusion Matrix\\n\\n\", conf)\n",
    "print(\"\\n\\nClassification Report\\n\\n\", report)"
   ]
  },
  {
   "cell_type": "code",
   "execution_count": 119,
   "metadata": {},
   "outputs": [
    {
     "data": {
      "image/png": "[encoded data removed]",
      "text/plain": [
       "<Figure size 576x576 with 1 Axes>"
      ]
     },
     "metadata": {
      "needs_background": "light"
     },
     "output_type": "display_data"
    }
   ],
   "source": [
    "import matplotlib.pyplot as plt\n",
    "\n",
    "fig, ax = plt.subplots(figsize=(8,8))\n",
    "ax.imshow(conf)\n",
    "ax.grid(False)\n",
    "ax.set_xlabel('Predicted outputs', color='black')\n",
    "ax.set_ylabel('Actual outputs', color='black')\n",
    "for i in range(2):\n",
    "    for j in range(2):\n",
    "        ax.text(j, i, conf[i, j], ha='center', va='center', color='black')\n",
    "plt.show()"
   ]
  },
  {
   "cell_type": "code",
   "execution_count": null,
   "metadata": {},
   "outputs": [],
   "source": []
  }
 ],
 "metadata": {
  "kernelspec": {
   "display_name": "[env1]",
   "language": "python",
   "name": "env1"
  },
  "language_info": {
   "codemirror_mode": {
    "name": "ipython",
    "version": 3
   },
   "file_extension": ".py",
   "mimetype": "text/x-python",
   "name": "python",
   "nbconvert_exporter": "python",
   "pygments_lexer": "ipython3",
   "version": "3.7.4"
  }
 },
 "nbformat": 4,
 "nbformat_minor": 4
}
